{
 "cells": [
  {
   "cell_type": "code",
   "execution_count": 11,
   "id": "912558d7-b40b-40a1-a429-7a9d61684ed7",
   "metadata": {},
   "outputs": [
    {
     "name": "stdout",
     "output_type": "stream",
     "text": [
      "True\n"
     ]
    }
   ],
   "source": [
    "def exist(board, word):\n",
    "    if not board or not board[0]:\n",
    "        return False\n",
    "\n",
    "    rows, cols = len(board), len(board[0])\n",
    "\n",
    "    def dfs(r, c, index):\n",
    "        # Base case: If we have found the entire word\n",
    "        if index == len(word):\n",
    "            return True\n",
    "        \n",
    "        # Check if we are out of bounds or character does not match\n",
    "        if r < 0 or r >= rows or c < 0 or c >= cols or board[r][c] != word[index]:\n",
    "            return False\n",
    "\n",
    "        # Mark the current cell as visited (temporary change)\n",
    "        temp = board[r][c]\n",
    "        board[r][c] = \"#\"  # Placeholder to indicate visited\n",
    "\n",
    "        # Explore four directions\n",
    "        found = (dfs(r + 1, c, index + 1) or  # Down\n",
    "                 dfs(r - 1, c, index + 1) or  # Up\n",
    "                 dfs(r, c + 1, index + 1) or  # Right\n",
    "                 dfs(r, c - 1, index + 1))    # Left\n",
    "\n",
    "        # Backtrack: Restore the original character\n",
    "        board[r][c] = temp\n",
    "        return found\n",
    "\n",
    "    # Start DFS from every cell that matches the first letter\n",
    "    for i in range(rows):\n",
    "        for j in range(cols):\n",
    "            if board[i][j] == word[0] and dfs(i, j, 0):\n",
    "                return True\n",
    "\n",
    "    return False\n",
    "\n",
    "# Example Usage\n",
    "board = [\n",
    "  ['A','B','C','E'],\n",
    "  ['S','F','C','S'],\n",
    "  ['A','D','E','E']\n",
    "]\n",
    "\n",
    "word = \"ABCCE\"\n",
    "print(exist(board, word))  # Output: True\n"
   ]
  }
 ],
 "metadata": {
  "kernelspec": {
   "display_name": "Python 3 (ipykernel)",
   "language": "python",
   "name": "python3"
  },
  "language_info": {
   "codemirror_mode": {
    "name": "ipython",
    "version": 3
   },
   "file_extension": ".py",
   "mimetype": "text/x-python",
   "name": "python",
   "nbconvert_exporter": "python",
   "pygments_lexer": "ipython3",
   "version": "3.12.6"
  }
 },
 "nbformat": 4,
 "nbformat_minor": 5
}
